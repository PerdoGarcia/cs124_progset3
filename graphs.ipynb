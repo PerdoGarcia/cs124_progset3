{
 "cells": [
  {
   "cell_type": "code",
   "execution_count": 6,
   "metadata": {},
   "outputs": [],
   "source": [
    "import sys\n",
    "import random\n",
    "import math\n"
   ]
  },
  {
   "cell_type": "code",
   "execution_count": 7,
   "metadata": {},
   "outputs": [],
   "source": [
    "max_iter = 25000\n",
    "\n",
    "def residual(s, arr):\n",
    "    residue = abs(sum([s[i]*arr[i] for i in range(len(arr))]))\n",
    "    \n",
    "    return residue\n",
    "    "
   ]
  },
  {
   "cell_type": "code",
   "execution_count": 8,
   "metadata": {},
   "outputs": [],
   "source": [
    "# Karmarkar-Karp algorithm\n",
    "def karmarkar_karp(arr):\n",
    "    # pq needed\n",
    "    \n",
    "    pq = []\n",
    "    while len(arr) > 1:\n",
    "        arr.sort()\n",
    "        arr[-1] = arr[-1] - arr[-2]\n",
    "        arr.pop(-2)\n",
    "    return arr[0]\n",
    "\n",
    "def prepartition(arr):\n",
    "    new_arr = [0] * len(arr)\n",
    "    \n",
    "    for j in range(1,len(arr)+1):\n",
    "        d = 1\n",
    "        for i in range(len(arr)):\n",
    "            if new_arr[i] == 0:\n",
    "                new_arr[i] = d\n",
    "                d = -d\n",
    "    return new_arr"
   ]
  },
  {
   "cell_type": "code",
   "execution_count": 9,
   "metadata": {},
   "outputs": [],
   "source": [
    "def repeated_random(arr):\n",
    "    if sum(arr) % 2 != 0:\n",
    "        odd = True\n",
    "    s = [random.choice([1, -1]) for _ in range(len(arr))]\n",
    "    for i in range(max_iter):\n",
    "        s_new = [random.choice([1, -1]) for _ in range(len(arr))]\n",
    "        \n",
    "        \n",
    "        if residual(s_new, arr) <= residual(s,arr):\n",
    "            s = s_new\n",
    "            if s == 0:\n",
    "                return s\n",
    "    return s"
   ]
  },
  {
   "cell_type": "code",
   "execution_count": 10,
   "metadata": {},
   "outputs": [],
   "source": [
    "def hill_climbing(arr):\n",
    "    s = [random.choice([1, -1]) for _ in range(len(arr))]\n",
    "    \n",
    "    for _ in range(max_iter):\n",
    "        # define neighbors\n",
    "        n_1 = random.choice(range(len(arr)))\n",
    "        n_2 = random.choice(range(len(arr)))\n",
    "        while n_1 != n_2:\n",
    "            n_2 = random.choice(range(len(arr)))\n",
    "        s_new = s\n",
    "        s_new[n_1] = -s_new[n_1]\n",
    "        s_new[n_2] = -s_new[n_2]\n",
    "        \n",
    "        if residual(s_new, arr) < residual(s,arr):\n",
    "            s = s_new\n",
    "            if s == 0:\n",
    "                return s\n",
    "    return s"
   ]
  },
  {
   "cell_type": "code",
   "execution_count": 11,
   "metadata": {},
   "outputs": [],
   "source": [
    "def simulated_annealing(arr):\n",
    "    s = [random.choice([1, -1]) for _ in range(len(arr))]\n",
    "    s_2p = s\n",
    "    \n",
    "    for i in max_iter:\n",
    "        n_1 = random.choice(range(len(arr)))\n",
    "        n_2 = random.choice(range(len(arr)))\n",
    "        while n_1 != n_2:\n",
    "            n_2 = random.choice(range(len(arr)))\n",
    "        s_1p = s\n",
    "        s_1p[n_1] = -s_1p[n_1]\n",
    "        s_1p[n_2] = -s_1p[n_2]\n",
    "        \n",
    "        if (s_1p, arr) < residual(s, arr):\n",
    "            if s_1p == 0:\n",
    "                return s_1p\n",
    "            s = s_1p\n",
    "        else:\n",
    "            temp = 10 ** 10 * (.8) ** (math.floor(i / 300))\n",
    "            prob = math.exp((residual(s, arr) - residual(s_1p, arr)) / temp)\n",
    "            if random.random() < prob:\n",
    "                s = s_1p\n",
    "        if residual(s, arr) < residual(s_2p, arr):\n",
    "            s_2p = s\n",
    "            if s == 0:\n",
    "                return s\n",
    "\n",
    "    return s_2p"
   ]
  },
  {
   "cell_type": "code",
   "execution_count": 12,
   "metadata": {},
   "outputs": [],
   "source": [
    "def main():\n",
    "    # Read input\n",
    "    flag = sys.argv[1]\n",
    "    algorithm = sys.argv[2]\n",
    "    [1, 10 **12]\n",
    "    array = [random.choice[1, 10 ** 12] for _ in range(100)]\n",
    "    \n",
    "    \n",
    "    \n",
    "        \n",
    "    \n",
    "    # if algorithm == 0:\n",
    "    #     print(karmarkar_karp(array))\n",
    "    \n",
    "    # if algorithm == 1:\n",
    "    #     print(repeated_random(array))\n",
    "    \n",
    "    # if algorithm == 2:\n",
    "    #     print(hill_climbing(array))\n",
    "    \n",
    "    # if algorithm == 3:\n",
    "    #     print(simulated_annealing(array))\n",
    "    \n",
    "    # if algorithm == 11:\n",
    "    #     new_array = prepartition(array)\n",
    "    #     print(repeated_random(new_array))\n",
    "    \n",
    "    # if algorithm == 12:\n",
    "    #     new_array = prepartition(array)\n",
    "    #     print(hill_climbing(new_array))\n",
    "    \n",
    "    # if algorithm == 13:\n",
    "    #     new_array = prepartition(array)\n",
    "    #     print(simulated_annealing(new_array))"
   ]
  },
  {
   "cell_type": "code",
   "execution_count": 13,
   "metadata": {},
   "outputs": [],
   "source": [
    "import random\n",
    "\n",
    "def prepartition(arr):\n",
    "    n = len(arr)\n",
    "    P = [random.randint(1, n) for _ in range(n)]  # Each element in P is randomly assigned a value from 1 to n\n",
    "    return P\n"
   ]
  },
  {
   "cell_type": "code",
   "execution_count": 14,
   "metadata": {},
   "outputs": [],
   "source": [
    "def transform_according_to_prepartition(A, P):\n",
    "    n = max(P)  # Get the number of partitions, which is the max value in P\n",
    "    A_prime = [0] * (n + 1)  # Create a new array to hold the sums, initialized with zeros\n",
    "\n",
    "    for i in range(len(A)):\n",
    "        A_prime[P[i]] += A[i]  # Add the value of A[i] to the position in A_prime corresponding to its partition\n",
    "    \n",
    "    return A_prime[1:] "
   ]
  },
  {
   "cell_type": "code",
   "execution_count": 15,
   "metadata": {},
   "outputs": [
    {
     "name": "stdout",
     "output_type": "stream",
     "text": [
      "Original array A: [10, 8, 7, 6, 5]\n",
      "Prepartition P: [1, 2, 2, 4, 5]\n",
      "Transformed array A': [10, 15, 0, 6, 5]\n"
     ]
    }
   ],
   "source": [
    "A = [10, 8, 7, 6, 5]  # Example array A\n",
    "P = [1,2,2,4,5] # Generate a random prepartition P\n",
    "A_prime = transform_according_to_prepartition(A, P)  # Transform A according to P\n",
    "\n",
    "print(\"Original array A:\", A)\n",
    "print(\"Prepartition P:\", P)\n",
    "print(\"Transformed array A':\", A_prime)"
   ]
  },
  {
   "cell_type": "code",
   "execution_count": 16,
   "metadata": {},
   "outputs": [
    {
     "name": "stdout",
     "output_type": "stream",
     "text": [
      "4\n"
     ]
    }
   ],
   "source": [
    "print(karmarkar_karp(A_prime))"
   ]
  }
 ],
 "metadata": {
  "kernelspec": {
   "display_name": "Python 3",
   "language": "python",
   "name": "python3"
  },
  "language_info": {
   "codemirror_mode": {
    "name": "ipython",
    "version": 3
   },
   "file_extension": ".py",
   "mimetype": "text/x-python",
   "name": "python",
   "nbconvert_exporter": "python",
   "pygments_lexer": "ipython3",
   "version": "3.11.7"
  },
  "orig_nbformat": 4
 },
 "nbformat": 4,
 "nbformat_minor": 2
}
