{
 "cells": [
  {
   "cell_type": "code",
   "execution_count": null,
   "metadata": {},
   "outputs": [],
   "source": [
    "import sys\n",
    "import random\n",
    "import math\n"
   ]
  },
  {
   "cell_type": "code",
   "execution_count": null,
   "metadata": {},
   "outputs": [],
   "source": [
    "max_iter = 25000\n",
    "\n",
    "def residual(s, arr):\n",
    "    return abs(sum([s[i]*arr[i] for i in range(len(arr))]))\n",
    "    "
   ]
  },
  {
   "cell_type": "code",
   "execution_count": null,
   "metadata": {},
   "outputs": [],
   "source": [
    "# Karmarkar-Karp algorithm\n",
    "def karmarkar_karp(arr):\n",
    "    # pq needed\n",
    "    \n",
    "    pq = []\n",
    "    while len(arr) > 1:\n",
    "        arr.sort()\n",
    "        arr[-1] = arr[-1] - arr[-2]\n",
    "        arr.pop(-2)\n",
    "    return arr[0]\n",
    "\n",
    "def prepartition(arr):\n",
    "    new_arr = [0] * len(arr)\n",
    "    \n",
    "    for j in range(1,len(arr)+1):\n",
    "        d = 1\n",
    "        for i in range(len(arr)):\n",
    "            if new_arr[i] == 0:\n",
    "                new_arr[i] = d\n",
    "                d = -d\n",
    "    return new_arr"
   ]
  },
  {
   "cell_type": "code",
   "execution_count": null,
   "metadata": {},
   "outputs": [],
   "source": [
    "def repeated_random(arr):\n",
    "    s = [s.append(random.choice([1, -1])) for _ in range(len(arr))]\n",
    "    \n",
    "    for _ in range(max_iter):\n",
    "        s_new = [random.choice([1, -1]) for _ in range(len(arr))]\n",
    "        if residual(s_new, arr) < residual(s,arr):\n",
    "            s = s_new\n",
    "            if s == 0:\n",
    "                return s\n",
    "    return s"
   ]
  },
  {
   "cell_type": "code",
   "execution_count": null,
   "metadata": {},
   "outputs": [],
   "source": [
    "def hill_climbing(arr):\n",
    "    s = [s.append(random.choice([1, -1])) for _ in range(len(arr))]\n",
    "    \n",
    "    for _ in range(max_iter):\n",
    "        # define neighbors\n",
    "        n_1 = random.choice(range(len(arr)))\n",
    "        n_2 = random.choice(range(len(arr)))\n",
    "        while n_1 != n_2:\n",
    "            n_2 = random.choice(range(len(arr)))\n",
    "        s_new = s\n",
    "        s_new[n_1] = -s_new[n_1]\n",
    "        s_new[n_2] = -s_new[n_2]\n",
    "        \n",
    "        if residual(s_new, arr) < residual(s,arr):\n",
    "            s = s_new\n",
    "            if s == 0:\n",
    "                return s\n",
    "    return s"
   ]
  },
  {
   "cell_type": "code",
   "execution_count": null,
   "metadata": {},
   "outputs": [],
   "source": [
    "def simulated_annealing(arr):\n",
    "    s = [s.append(random.choice([1, -1])) for _ in range(len(arr))]\n",
    "    s_2p = s\n",
    "    \n",
    "    for i in max_iter:\n",
    "        n_1 = random.choice(range(len(arr)))\n",
    "        n_2 = random.choice(range(len(arr)))\n",
    "        while n_1 != n_2:\n",
    "            n_2 = random.choice(range(len(arr)))\n",
    "        s_1p = s\n",
    "        s_1p[n_1] = -s_1p[n_1]\n",
    "        s_1p[n_2] = -s_1p[n_2]\n",
    "        \n",
    "        if (s_1p, arr) < residual(s, arr):\n",
    "            if s_1p == 0:\n",
    "                return s_1p\n",
    "            s = s_1p\n",
    "        else:\n",
    "            temp = 10 ** 10 * (.8) ** (math.floor(i / 300))\n",
    "            prob = math.exp((residual(s, arr) - residual(s_1p, arr)) / temp)\n",
    "            if random.random() < prob:\n",
    "                s = s_1p\n",
    "        if residual(s, arr) < residual(s_2p, arr):\n",
    "            s_2p = s\n",
    "            if s == 0:\n",
    "                return s\n",
    "\n",
    "    return s_2p"
   ]
  },
  {
   "cell_type": "code",
   "execution_count": null,
   "metadata": {},
   "outputs": [],
   "source": [
    "def main():\n",
    "    # Read input\n",
    "    flag = sys.argv[1]\n",
    "    algorithm = sys.argv[2]\n",
    "    input_file = open(sys.argv[3], \"r\")\n",
    "    \n",
    "    array = []\n",
    "    for line in (input_file):\n",
    "        array.append(int(line))\n",
    "        \n",
    "    \n",
    "    if algorithm == 0:\n",
    "        print(karmarkar_karp(array))\n",
    "    if algorithm == 1:\n",
    "        print(repeated_random(array))\n",
    "    if algorithm == 2:\n",
    "        print(hill_climbing(array))\n",
    "    if algorithm == 3:\n",
    "        print(simulated_annealing(array))\n",
    "    if algorithm == 11:\n",
    "        new_array = prepartition(array)\n",
    "        print(repeated_random(new_array))\n",
    "    if algorithm == 12:\n",
    "        new_array = prepartition(array)\n",
    "        print(hill_climbing(new_array))\n",
    "    if algorithm == 13:\n",
    "        new_array = prepartition(array)\n",
    "        print(simulated_annealing(new_array))"
   ]
  }
 ],
 "metadata": {
  "language_info": {
   "name": "python"
  },
  "orig_nbformat": 4
 },
 "nbformat": 4,
 "nbformat_minor": 2
}
